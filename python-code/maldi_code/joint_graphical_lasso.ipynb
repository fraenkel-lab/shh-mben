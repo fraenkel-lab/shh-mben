{
 "cells": [
  {
   "cell_type": "markdown",
   "metadata": {},
   "source": [
    "## Joint Graphical Lasso Analysis for MALDI Data\n",
    "Used for Figure 6\n",
    "\n",
    "Author: Max Gold"
   ]
  },
  {
   "cell_type": "code",
   "execution_count": 1,
   "metadata": {},
   "outputs": [],
   "source": [
    "from collections import Counter\n",
    "import itertools\n",
    "import pandas as pd\n",
    "import numpy as np\n",
    "import matplotlib.pyplot as plt\n",
    "import matplotlib\n",
    "import networkx as nx\n",
    "import os\n",
    "import scanpy as sc\n",
    "from scipy import stats\n",
    "import seaborn as sns\n",
    "import sklearn\n",
    "\n",
    "import warnings\n",
    "warnings.filterwarnings('ignore')\n"
   ]
  },
  {
   "cell_type": "code",
   "execution_count": 2,
   "metadata": {
    "code_folding": []
   },
   "outputs": [],
   "source": [
    "## glasso\n",
    "from gglasso.solver.admm_solver import ADMM_MGL\n",
    "from gglasso.helper.data_generation import time_varying_power_network, sample_covariance_matrix\n",
    "from gglasso.helper.experiment_helper import lambda_grid, discovery_rate, error\n",
    "from gglasso.helper.utils import get_K_identity\n",
    "from gglasso.helper.experiment_helper import plot_evolution, plot_deviation, surface_plot, single_heatmap_animation\n",
    "from gglasso.helper.model_selection import aic, ebic"
   ]
  },
  {
   "cell_type": "code",
   "execution_count": null,
   "metadata": {},
   "outputs": [],
   "source": [
    "base_fold = '../../data/'"
   ]
  },
  {
   "cell_type": "code",
   "execution_count": 3,
   "metadata": {},
   "outputs": [],
   "source": [
    "nfoo = sc.read_h5ad(os.path.join(base_fold, 'maldi_data_vf.h5ad'))"
   ]
  },
  {
   "cell_type": "code",
   "execution_count": 4,
   "metadata": {},
   "outputs": [],
   "source": [
    "metabs = list(nfoo.var['metabolite'])\n",
    "mm = dict([[index, row] for index,row in enumerate(metabs)])"
   ]
  },
  {
   "cell_type": "code",
   "execution_count": 5,
   "metadata": {},
   "outputs": [],
   "source": [
    "## scale data"
   ]
  },
  {
   "cell_type": "code",
   "execution_count": 6,
   "metadata": {},
   "outputs": [],
   "source": [
    "samps = nfoo.obs['sample'].unique()\n",
    "\n",
    "cd = {}\n",
    "for s in samps:\n",
    "    gg = nfoo[nfoo.obs['sample']==s]\n",
    "    sc.pp.scale(gg)\n",
    "    rs = np.cov(np.transpose(gg.X))\n",
    "    cd[s] = rs\n",
    "\n",
    "counts = dict(nfoo.obs.groupby(\"sample\").count()['x'])\n"
   ]
  },
  {
   "cell_type": "code",
   "execution_count": 8,
   "metadata": {},
   "outputs": [],
   "source": [
    "## categorize samples into others (oal) and LSGN (lal)\n",
    "oal = ['MDT-AP-0388','MDT-AP-2377', 'MB4143','MB3201']\n",
    "lal = sorted(set(samps).difference(oal))\n",
    "nsamps = oal+lal"
   ]
  },
  {
   "cell_type": "code",
   "execution_count": 9,
   "metadata": {},
   "outputs": [],
   "source": [
    "## organize covriance matrices\n",
    "S = np.array([cd[x] for x in nsamps])"
   ]
  },
  {
   "cell_type": "code",
   "execution_count": null,
   "metadata": {},
   "outputs": [],
   "source": []
  },
  {
   "cell_type": "code",
   "execution_count": 444,
   "metadata": {},
   "outputs": [],
   "source": [
    "## setup parameters\n",
    "K = S.shape[0]\n",
    "p = S.shape[1]\n",
    "\n",
    "N = [counts[x] for x in nsamps]\n",
    "reg = 'GGL'\n",
    "\n",
    "Omega_0 = get_K_identity(K,p)\n",
    "Theta_0 = get_K_identity(K,p)\n",
    "X_0 = np.zeros((K,p,p))"
   ]
  },
  {
   "cell_type": "code",
   "execution_count": 445,
   "metadata": {
    "scrolled": true
   },
   "outputs": [
    {
     "name": "stdout",
     "output_type": "stream",
     "text": [
      "ADMM terminated after 40 iterations with status: optimal.\n",
      "0.05 0.01 234127.43510216943 2147508.2463476206 20.735714285714288\n",
      "ADMM terminated after 39 iterations with status: optimal.\n",
      "0.05 0.02 257891.02674238198 2238494.828638238 21.464285714285715\n",
      "ADMM terminated after 39 iterations with status: optimal.\n",
      "0.05 0.03 282808.127780018 2314494.6786093595 22.017857142857146\n",
      "ADMM terminated after 39 iterations with status: optimal.\n",
      "0.05 0.04 304992.0569778451 2355447.281067874 22.221428571428568\n",
      "ADMM terminated after 40 iterations with status: optimal.\n",
      "0.05 0.05 329549.0166593343 2403402.5409358116 22.475\n",
      "ADMM terminated after 35 iterations with status: optimal.\n",
      "0.1 0.01 474247.133194913 1948300.752479302 15.975\n",
      "ADMM terminated after 34 iterations with status: optimal.\n",
      "0.1 0.02 494360.61118467135 2023120.1495359302 16.567857142857143\n",
      "ADMM terminated after 33 iterations with status: optimal.\n",
      "0.1 0.03 515210.22924320865 2086149.8805350685 17.025\n",
      "ADMM terminated after 33 iterations with status: optimal.\n",
      "0.1 0.04 533972.6024074461 2127982.0029482627 17.275\n",
      "ADMM terminated after 33 iterations with status: optimal.\n",
      "0.1 0.05 553235.5762081 2159113.585498941 17.40357142857143\n",
      "ADMM terminated after 34 iterations with status: optimal.\n",
      "0.15000000000000002 0.01 676600.2208725743 1980600.83002393 14.132142857142856\n",
      "ADMM terminated after 34 iterations with status: optimal.\n",
      "0.15000000000000002 0.02 697282.2067636426 2036540.9296058551 14.514285714285714\n",
      "ADMM terminated after 35 iterations with status: optimal.\n",
      "0.15000000000000002 0.03 715435.1494558846 2085011.5263843075 14.842857142857142\n",
      "ADMM terminated after 34 iterations with status: optimal.\n",
      "0.15000000000000002 0.04 733258.719744293 2115030.944110151 14.975\n",
      "ADMM terminated after 33 iterations with status: optimal.\n",
      "0.15000000000000002 0.05 750808.297315368 2149061.6041663843 15.15357142857143\n",
      "ADMM terminated after 28 iterations with status: optimal.\n",
      "0.2 0.01 865297.7618501491 2051004.7624676675 12.849999999999998\n",
      "ADMM terminated after 27 iterations with status: optimal.\n",
      "0.2 0.02 883627.9700210234 2093382.9155661238 13.110714285714286\n",
      "ADMM terminated after 27 iterations with status: optimal.\n",
      "0.2 0.03 899711.7871155317 2120007.46395296 13.225\n",
      "ADMM terminated after 26 iterations with status: optimal.\n",
      "0.2 0.04 918019.1616462914 2151825.7620910862 13.371428571428572\n",
      "ADMM terminated after 26 iterations with status: optimal.\n",
      "0.2 0.05 933802.2766206895 2173222.2232744317 13.432142857142855\n",
      "ADMM terminated after 24 iterations with status: optimal.\n",
      "0.25 0.01 1044245.9480376004 2118899.955264386 11.64642857142857\n",
      "ADMM terminated after 24 iterations with status: optimal.\n",
      "0.25 0.02 1060558.4917888604 2150364.635617943 11.810714285714285\n",
      "ADMM terminated after 25 iterations with status: optimal.\n",
      "0.25 0.03 1073604.9382974776 2176264.5768656055 11.95\n",
      "ADMM terminated after 25 iterations with status: optimal.\n",
      "0.25 0.04 1089506.5141532056 2201390.688282766 12.049999999999999\n",
      "ADMM terminated after 25 iterations with status: optimal.\n",
      "0.25 0.05 1105266.4926005807 2226051.798259147 12.146428571428572\n"
     ]
    }
   ],
   "source": [
    "nval = 5\n",
    "lol1 = list(np.linspace(0.05, 0.25, nval))\n",
    "lol2 = list(np.linspace(0.01, 0.05, nval))\n",
    "llo = []\n",
    "for lambda1 in lol1:\n",
    "    for lambda2 in lol2:\n",
    "        sol, info =  ADMM_MGL(S, lambda1, lambda2, reg , Omega_0, Theta_0 = Theta_0, X_0 = X_0, tol = 1e-5, rtol = 1e-5, verbose = False, measure = False)\n",
    "        Theta_sol = sol['Theta']\n",
    "        Omega_sol = sol['Omega']\n",
    "        \n",
    "\n",
    "        aoo = aic(S, Theta_sol, N)\n",
    "        boo = ebic(S, Theta_sol, N, gamma = 20)\n",
    "        llo.append([boo, lambda1, lambda2])\n",
    "        print(lambda1, lambda2, aoo, boo, np.mean([ (np.count_nonzero(x) - x.shape[1]) / x.shape[1] for x in Theta_sol]))"
   ]
  },
  {
   "cell_type": "code",
   "execution_count": 451,
   "metadata": {},
   "outputs": [
    {
     "name": "stdout",
     "output_type": "stream",
     "text": [
      "[1921069.0000397146, 0.1, 0.01]\n"
     ]
    }
   ],
   "source": [
    "## optimal params\n",
    "print(koo[0])\n",
    "l1opt = koo[0][1]\n",
    "l2opt = koo[0][2]"
   ]
  },
  {
   "cell_type": "code",
   "execution_count": 446,
   "metadata": {},
   "outputs": [
    {
     "name": "stdout",
     "output_type": "stream",
     "text": [
      "------------ADMM Algorithm for Multiple Graphical Lasso----------------\n",
      "iter\t       r_t\t       s_t\t   eps_pri\t  eps_dual\n",
      "   0\t     7.159\t     10.44\t 0.0001599\t 0.0001597\n",
      "   1\t     4.616\t     4.069\t 0.0001599\t 0.0001597\n",
      "   2\t     2.279\t     4.349\t   0.00016\t 0.0001597\n",
      "   3\t     1.193\t     3.637\t   0.00016\t 0.0001597\n",
      "   4\t    0.7845\t     2.815\t   0.00016\t 0.0001597\n",
      "   5\t    0.5625\t     2.338\t   0.00016\t 0.0001597\n",
      "   6\t    0.4189\t     2.009\t 0.0001601\t 0.0001597\n",
      "   7\t    0.3225\t     1.758\t 0.0001601\t 0.0001597\n",
      "   8\t    0.2536\t      1.56\t 0.0001601\t 0.0001597\n",
      "   9\t    0.2026\t     1.399\t 0.0001601\t 0.0001597\n",
      "  10\t    0.1619\t     1.266\t 0.0001601\t 0.0001597\n",
      "  11\t    0.1316\t     1.154\t 0.0001601\t 0.0001597\n",
      "  12\t    0.1079\t     1.058\t 0.0001601\t 0.0001597\n",
      "  13\t   0.09062\t    0.9746\t 0.0001601\t 0.0001597\n",
      "  14\t    0.1112\t    0.8451\t 0.0001602\t 0.0001597\n",
      "  15\t    0.1193\t      0.74\t 0.0001602\t 0.0001597\n",
      "  16\t    0.1188\t    0.6549\t 0.0001602\t 0.0001597\n",
      "  17\t    0.1133\t    0.5842\t 0.0001602\t 0.0001597\n",
      "  18\t    0.1043\t    0.5246\t 0.0001602\t 0.0001597\n",
      "  19\t   0.09623\t     0.474\t 0.0001602\t 0.0001597\n",
      "  20\t   0.08792\t    0.4303\t 0.0001602\t 0.0001597\n",
      "  21\t   0.07939\t    0.3925\t 0.0001602\t 0.0001597\n",
      "  22\t   0.07311\t    0.3595\t 0.0001602\t 0.0001597\n",
      "  23\t   0.06652\t    0.3303\t 0.0001602\t 0.0001597\n",
      "  24\t   0.06155\t    0.3046\t 0.0001602\t 0.0001597\n",
      "  25\t   0.05631\t    0.2815\t 0.0001602\t 0.0001597\n",
      "  26\t   0.05097\t    0.2608\t 0.0001602\t 0.0001597\n",
      "  27\t   0.04674\t    0.2423\t 0.0001602\t 0.0001597\n",
      "  28\t   0.04314\t    0.2256\t 0.0001602\t 0.0001597\n",
      "  29\t   0.03997\t    0.2104\t 0.0001603\t 0.0001597\n",
      "  30\t   0.03786\t    0.1967\t 0.0001603\t 0.0001597\n",
      "  31\t   0.03521\t     0.184\t 0.0001603\t 0.0001597\n",
      "  32\t   0.03236\t    0.1724\t 0.0001603\t 0.0001597\n",
      "  33\t   0.02951\t    0.1619\t 0.0001603\t 0.0001597\n",
      "  34\t   0.02739\t    0.1521\t 0.0001603\t 0.0001597\n",
      "  35\t   0.02522\t    0.1432\t 0.0001603\t 0.0001597\n",
      "  36\t   0.02362\t     0.135\t 0.0001603\t 0.0001597\n",
      "  37\t   0.02183\t    0.1273\t 0.0001603\t 0.0001597\n",
      "  38\t   0.02047\t    0.1203\t 0.0001603\t 0.0001597\n",
      "  39\t   0.01977\t    0.1137\t 0.0001603\t 0.0001597\n",
      "  40\t   0.01813\t    0.1076\t 0.0001603\t 0.0001597\n",
      "  41\t   0.01758\t    0.1019\t 0.0001603\t 0.0001597\n",
      "  42\t   0.01615\t   0.09649\t 0.0001603\t 0.0001597\n",
      "  43\t   0.01499\t    0.0915\t 0.0001603\t 0.0001597\n",
      "  44\t   0.01397\t   0.08684\t 0.0001603\t 0.0001597\n",
      "  45\t   0.01299\t   0.08249\t 0.0001603\t 0.0001597\n",
      "  46\t   0.01219\t    0.0784\t 0.0001603\t 0.0001597\n",
      "  47\t   0.01145\t   0.07457\t 0.0001603\t 0.0001597\n",
      "  48\t   0.01081\t   0.07097\t 0.0001603\t 0.0001597\n",
      "  49\t   0.01019\t   0.06759\t 0.0001603\t 0.0001597\n",
      "  50\t  0.009623\t    0.0644\t 0.0001603\t 0.0001597\n",
      "  51\t  0.009146\t   0.06139\t 0.0001603\t 0.0001597\n",
      "  52\t  0.008683\t   0.05856\t 0.0001603\t 0.0001597\n",
      "  53\t  0.008348\t   0.05587\t 0.0001603\t 0.0001597\n",
      "  54\t  0.007804\t   0.05334\t 0.0001603\t 0.0001597\n",
      "  55\t  0.007398\t   0.05094\t 0.0001603\t 0.0001597\n",
      "  56\t  0.007028\t   0.04867\t 0.0001603\t 0.0001597\n",
      "  57\t  0.006687\t   0.04652\t 0.0001603\t 0.0001597\n",
      "  58\t  0.006368\t   0.04449\t 0.0001603\t 0.0001597\n",
      "  59\t  0.006063\t   0.04256\t 0.0001603\t 0.0001597\n",
      "  60\t  0.005827\t   0.04073\t 0.0001603\t 0.0001597\n",
      "  61\t  0.005461\t   0.03899\t 0.0001603\t 0.0001597\n",
      "  62\t  0.005372\t   0.03734\t 0.0001603\t 0.0001597\n",
      "  63\t  0.004929\t   0.03576\t 0.0001603\t 0.0001597\n",
      "  64\t  0.004654\t   0.03426\t 0.0001603\t 0.0001597\n",
      "  65\t   0.00449\t   0.03284\t 0.0001603\t 0.0001597\n",
      "  66\t   0.00419\t   0.03148\t 0.0001603\t 0.0001597\n",
      "  67\t  0.003947\t   0.03019\t 0.0001603\t 0.0001597\n",
      "  68\t  0.003732\t   0.02896\t 0.0001603\t 0.0001597\n",
      "  69\t  0.003534\t   0.02778\t 0.0001603\t 0.0001597\n",
      "  70\t  0.003349\t   0.02667\t 0.0001603\t 0.0001597\n",
      "  71\t  0.003176\t    0.0256\t 0.0001603\t 0.0001597\n",
      "  72\t  0.003013\t   0.02458\t 0.0001603\t 0.0001597\n",
      "  73\t  0.002861\t   0.02361\t 0.0001603\t 0.0001597\n",
      "  74\t  0.002717\t   0.02268\t 0.0001603\t 0.0001597\n",
      "  75\t  0.002592\t   0.02179\t 0.0001603\t 0.0001597\n",
      "  76\t   0.00249\t   0.02094\t 0.0001603\t 0.0001597\n",
      "  77\t  0.002361\t   0.02012\t 0.0001603\t 0.0001597\n",
      "  78\t  0.002242\t   0.01935\t 0.0001603\t 0.0001597\n",
      "  79\t  0.002131\t    0.0186\t 0.0001603\t 0.0001597\n",
      "  80\t  0.002025\t   0.01789\t 0.0001603\t 0.0001597\n",
      "  81\t  0.001926\t   0.01721\t 0.0001603\t 0.0001597\n",
      "  82\t  0.001832\t   0.01655\t 0.0001603\t 0.0001597\n",
      "  83\t  0.001744\t   0.01593\t 0.0001603\t 0.0001597\n",
      "  84\t   0.00166\t   0.01533\t 0.0001603\t 0.0001597\n",
      "  85\t  0.001581\t   0.01475\t 0.0001603\t 0.0001597\n",
      "  86\t  0.001506\t    0.0142\t 0.0001603\t 0.0001597\n",
      "  87\t  0.001436\t   0.01367\t 0.0001603\t 0.0001597\n",
      "  88\t  0.001369\t   0.01317\t 0.0001603\t 0.0001597\n",
      "  89\t  0.001333\t   0.01268\t 0.0001603\t 0.0001597\n",
      "  90\t   0.00132\t   0.01221\t 0.0001603\t 0.0001597\n",
      "  91\t  0.001311\t   0.01176\t 0.0001603\t 0.0001597\n",
      "  92\t  0.001191\t   0.01132\t 0.0001603\t 0.0001597\n",
      "  93\t  0.001129\t   0.01091\t 0.0001603\t 0.0001597\n",
      "  94\t  0.001076\t   0.01051\t 0.0001603\t 0.0001597\n",
      "  95\t  0.001026\t   0.01013\t 0.0001603\t 0.0001597\n",
      "  96\t 0.0009792\t  0.009761\t 0.0001603\t 0.0001597\n",
      "  97\t 0.0009344\t  0.009408\t 0.0001603\t 0.0001597\n",
      "  98\t   0.00117\t  0.008772\t 0.0001603\t 0.0001597\n",
      "  99\t  0.001319\t  0.008155\t 0.0001603\t 0.0001597\n",
      " 100\t  0.001399\t  0.007595\t 0.0001603\t 0.0001597\n",
      " 101\t   0.00143\t  0.007076\t 0.0001603\t 0.0001597\n",
      " 102\t   0.00143\t  0.006593\t 0.0001603\t 0.0001597\n",
      " 103\t  0.001408\t  0.006146\t 0.0001603\t 0.0001597\n",
      " 104\t  0.001374\t   0.00573\t 0.0001603\t 0.0001597\n",
      " 105\t   0.00133\t  0.005343\t 0.0001603\t 0.0001597\n",
      " 106\t  0.001281\t  0.004984\t 0.0001603\t 0.0001597\n",
      " 107\t   0.00123\t   0.00465\t 0.0001603\t 0.0001597\n",
      " 108\t  0.001178\t   0.00434\t 0.0001603\t 0.0001597\n",
      " 109\t  0.001124\t  0.004051\t 0.0001603\t 0.0001597\n",
      " 110\t  0.001071\t  0.003782\t 0.0001603\t 0.0001597\n",
      " 111\t  0.001019\t  0.003532\t 0.0001603\t 0.0001597\n",
      " 112\t 0.0009697\t  0.003298\t 0.0001603\t 0.0001597\n",
      " 113\t 0.0009221\t  0.003081\t 0.0001603\t 0.0001597\n",
      " 114\t 0.0008767\t  0.002879\t 0.0001603\t 0.0001597\n",
      " 115\t 0.0008337\t  0.002691\t 0.0001603\t 0.0001597\n",
      " 116\t  0.000793\t  0.002515\t 0.0001603\t 0.0001597\n",
      " 117\t 0.0007547\t  0.002351\t 0.0001603\t 0.0001597\n",
      " 118\t 0.0007186\t  0.002198\t 0.0001603\t 0.0001597\n",
      " 119\t 0.0006848\t  0.002056\t 0.0001603\t 0.0001597\n",
      " 120\t 0.0006531\t  0.001923\t 0.0001603\t 0.0001597\n",
      " 121\t 0.0006234\t  0.001798\t 0.0001603\t 0.0001597\n",
      " 122\t 0.0005955\t  0.001682\t 0.0001603\t 0.0001597\n",
      " 123\t 0.0005694\t  0.001574\t 0.0001603\t 0.0001597\n",
      " 124\t 0.0005449\t  0.001473\t 0.0001603\t 0.0001597\n",
      " 125\t  0.000522\t  0.001379\t 0.0001603\t 0.0001597\n",
      " 126\t 0.0005005\t   0.00129\t 0.0001603\t 0.0001597\n",
      " 127\t 0.0004804\t  0.001208\t 0.0001603\t 0.0001597\n",
      " 128\t 0.0004614\t  0.001131\t 0.0001603\t 0.0001597\n",
      " 129\t 0.0004437\t  0.001059\t 0.0001603\t 0.0001597\n",
      " 130\t 0.0004269\t 0.0009917\t 0.0001603\t 0.0001597\n",
      " 131\t 0.0004112\t 0.0009288\t 0.0001603\t 0.0001597\n",
      " 132\t 0.0003964\t 0.0008699\t 0.0001603\t 0.0001597\n",
      " 133\t 0.0003824\t 0.0008149\t 0.0001603\t 0.0001597\n",
      " 134\t 0.0003692\t 0.0007634\t 0.0001603\t 0.0001597\n",
      " 135\t 0.0003567\t 0.0007152\t 0.0001603\t 0.0001597\n",
      " 136\t 0.0003449\t 0.0006702\t 0.0001603\t 0.0001597\n",
      " 137\t 0.0003338\t  0.000628\t 0.0001603\t 0.0001597\n",
      " 138\t 0.0003232\t 0.0005885\t 0.0001603\t 0.0001597\n",
      " 139\t 0.0003132\t 0.0005516\t 0.0001603\t 0.0001597\n",
      " 140\t 0.0003036\t  0.000517\t 0.0001603\t 0.0001597\n",
      " 141\t 0.0002945\t 0.0004846\t 0.0001603\t 0.0001597\n",
      " 142\t 0.0002859\t 0.0004543\t 0.0001603\t 0.0001597\n",
      " 143\t 0.0002777\t 0.0004259\t 0.0001603\t 0.0001597\n",
      " 144\t 0.0002698\t 0.0003993\t 0.0001603\t 0.0001597\n",
      " 145\t 0.0002623\t 0.0003744\t 0.0001603\t 0.0001597\n",
      " 146\t 0.0002552\t 0.0003511\t 0.0001603\t 0.0001597\n",
      " 147\t 0.0002483\t 0.0003292\t 0.0001603\t 0.0001597\n",
      " 148\t 0.0002417\t 0.0003088\t 0.0001603\t 0.0001597\n",
      " 149\t 0.0002354\t 0.0002896\t 0.0001603\t 0.0001597\n",
      " 150\t 0.0002294\t 0.0002716\t 0.0001603\t 0.0001597\n",
      " 151\t 0.0002236\t 0.0002548\t 0.0001603\t 0.0001597\n",
      " 152\t  0.000218\t  0.000239\t 0.0001603\t 0.0001597\n",
      " 153\t 0.0002126\t 0.0002242\t 0.0001603\t 0.0001597\n",
      " 154\t 0.0002074\t 0.0002104\t 0.0001603\t 0.0001597\n",
      " 155\t 0.0002024\t 0.0001974\t 0.0001603\t 0.0001597\n",
      " 156\t 0.0001976\t 0.0001852\t 0.0001603\t 0.0001597\n",
      " 157\t 0.0001929\t 0.0001738\t 0.0001603\t 0.0001597\n",
      " 158\t 0.0001884\t 0.0001631\t 0.0001603\t 0.0001597\n",
      " 159\t 0.0001841\t  0.000153\t 0.0001603\t 0.0001597\n",
      " 160\t 0.0001799\t 0.0001436\t 0.0001603\t 0.0001597\n",
      " 161\t 0.0001758\t 0.0001348\t 0.0001603\t 0.0001597\n",
      " 162\t 0.0001718\t 0.0001265\t 0.0001603\t 0.0001597\n",
      " 163\t  0.000168\t 0.0001187\t 0.0001603\t 0.0001597\n",
      " 164\t 0.0001643\t 0.0001114\t 0.0001603\t 0.0001597\n"
     ]
    },
    {
     "name": "stdout",
     "output_type": "stream",
     "text": [
      " 165\t 0.0001607\t 0.0001046\t 0.0001603\t 0.0001597\n",
      " 166\t 0.0001571\t 9.821e-05\t 0.0001603\t 0.0001597\n",
      "ADMM terminated after 167 iterations with status: optimal.\n"
     ]
    }
   ],
   "source": [
    "Omega_0 = get_K_identity(K,p)\n",
    "solA, infoA = ADMM_MGL(S, l1opt, l2opt, reg , Omega_0, tol = 1e-8, rtol = 1e-8, verbose = True, measure = True)"
   ]
  },
  {
   "cell_type": "code",
   "execution_count": 453,
   "metadata": {},
   "outputs": [],
   "source": [
    "## get output from graph"
   ]
  },
  {
   "cell_type": "code",
   "execution_count": 454,
   "metadata": {},
   "outputs": [],
   "source": [
    "theta = solA['Theta']"
   ]
  },
  {
   "cell_type": "code",
   "execution_count": 455,
   "metadata": {
    "code_folding": []
   },
   "outputs": [],
   "source": [
    "## graph functions\n",
    "def get_graph(a,mm):\n",
    "    np.fill_diagonal(a, 0)\n",
    "    G = nx.from_numpy_array(a)\n",
    "    G = nx.relabel_nodes(G,mm) \n",
    "    return G\n",
    "\n",
    "def get_graph_dict(l, mm):\n",
    "    return dict([[nsamps[i], get_graph(x, mm)] for i,x in enumerate(l)])\n",
    "\n",
    "def get_consensus_network(gd, samps, cut):\n",
    "    c = Counter(list(itertools.chain.from_iterable([gd[x].edges for x in samps])))\n",
    "    ge = [k for k,v in c.items() if (v >= (len(samps)*cut))]\n",
    "    gec = dict([[x, c[x]/len(samps)] for x in ge])\n",
    "    gecl = [gec[x] for x in ge]\n",
    "    gedf = pd.DataFrame(ge, columns = ['A', 'B'])\n",
    "    gedf['Percent'] = gecl\n",
    "    gun = nx.from_pandas_edgelist(gedf, 'A', 'B',['Percent'])\n",
    "    return gun\n"
   ]
  },
  {
   "cell_type": "code",
   "execution_count": null,
   "metadata": {},
   "outputs": [],
   "source": [
    "## get metabolite annotations and get indivdual tumor graphs"
   ]
  },
  {
   "cell_type": "code",
   "execution_count": 456,
   "metadata": {},
   "outputs": [],
   "source": [
    "metabs = list(nfoo.var['metabolite'])\n",
    "mm = dict([[index, row] for index,row in enumerate(metabs)])"
   ]
  },
  {
   "cell_type": "code",
   "execution_count": 457,
   "metadata": {},
   "outputs": [],
   "source": [
    "## get networks for each tumor section\n",
    "ook = get_graph_dict(theta, mm)"
   ]
  },
  {
   "cell_type": "code",
   "execution_count": null,
   "metadata": {},
   "outputs": [],
   "source": [
    "## get consensus networks\n",
    "anet = get_consensus_network(ook, oal, 0.5)\n",
    "bnet = get_consensus_network(ook, lal, 0.5)\n",
    "\n",
    "bb = nx.betweenness_centrality(bnet)\n",
    "ba = nx.betweenness_centrality(anet)"
   ]
  },
  {
   "cell_type": "code",
   "execution_count": null,
   "metadata": {},
   "outputs": [],
   "source": [
    "## iterate through tumor sections individually to get centrality"
   ]
  },
  {
   "cell_type": "code",
   "execution_count": 471,
   "metadata": {},
   "outputs": [],
   "source": [
    "meto = mm.values()"
   ]
  },
  {
   "cell_type": "code",
   "execution_count": 472,
   "metadata": {},
   "outputs": [],
   "source": [
    "bdf = pd.DataFrame(index=meto)\n",
    "for samp in nsamps:\n",
    "    uu = ook[samp]\n",
    "    fo = nx.betweenness_centrality(uu)\n",
    "    fod = pd.DataFrame(fo, columns = [samp])\n",
    "    ool = [fo[x] if x in fo.keys() else 0 for x in meto]\n",
    "    bdf[samp] = ool"
   ]
  },
  {
   "cell_type": "code",
   "execution_count": 473,
   "metadata": {},
   "outputs": [],
   "source": [
    "bdf = bdf.T\n",
    "bdf['Subtype'] =  ['SHHa' for _ in range(len(oal))] + ['SHHb' for _ in range(len(lal))]"
   ]
  },
  {
   "cell_type": "code",
   "execution_count": 474,
   "metadata": {},
   "outputs": [],
   "source": [
    "our = bdf.groupby(\"Subtype\").mean().T\n",
    "our['diff'] = our['SHHb'] - our['SHHa']"
   ]
  },
  {
   "cell_type": "code",
   "execution_count": 475,
   "metadata": {},
   "outputs": [
    {
     "data": {
      "text/html": [
       "<div>\n",
       "<style scoped>\n",
       "    .dataframe tbody tr th:only-of-type {\n",
       "        vertical-align: middle;\n",
       "    }\n",
       "\n",
       "    .dataframe tbody tr th {\n",
       "        vertical-align: top;\n",
       "    }\n",
       "\n",
       "    .dataframe thead th {\n",
       "        text-align: right;\n",
       "    }\n",
       "</style>\n",
       "<table border=\"1\" class=\"dataframe\">\n",
       "  <thead>\n",
       "    <tr style=\"text-align: right;\">\n",
       "      <th>Subtype</th>\n",
       "      <th>SHHa</th>\n",
       "      <th>SHHb</th>\n",
       "      <th>diff</th>\n",
       "    </tr>\n",
       "  </thead>\n",
       "  <tbody>\n",
       "    <tr>\n",
       "      <th>taurine</th>\n",
       "      <td>0.017890</td>\n",
       "      <td>0.029626</td>\n",
       "      <td>0.011736</td>\n",
       "    </tr>\n",
       "    <tr>\n",
       "      <th>GMP</th>\n",
       "      <td>0.009467</td>\n",
       "      <td>0.020582</td>\n",
       "      <td>0.011115</td>\n",
       "    </tr>\n",
       "    <tr>\n",
       "      <th>Lipid8</th>\n",
       "      <td>0.018271</td>\n",
       "      <td>0.027998</td>\n",
       "      <td>0.009727</td>\n",
       "    </tr>\n",
       "    <tr>\n",
       "      <th>C16:1</th>\n",
       "      <td>0.005471</td>\n",
       "      <td>0.014998</td>\n",
       "      <td>0.009527</td>\n",
       "    </tr>\n",
       "    <tr>\n",
       "      <th>Phosphoserine</th>\n",
       "      <td>0.013430</td>\n",
       "      <td>0.021786</td>\n",
       "      <td>0.008356</td>\n",
       "    </tr>\n",
       "    <tr>\n",
       "      <th>glucose-1-phosphate</th>\n",
       "      <td>0.016427</td>\n",
       "      <td>0.023752</td>\n",
       "      <td>0.007325</td>\n",
       "    </tr>\n",
       "    <tr>\n",
       "      <th>Cyclic-ADP-ribose</th>\n",
       "      <td>0.005044</td>\n",
       "      <td>0.011422</td>\n",
       "      <td>0.006378</td>\n",
       "    </tr>\n",
       "    <tr>\n",
       "      <th>pantothenate</th>\n",
       "      <td>0.006340</td>\n",
       "      <td>0.012244</td>\n",
       "      <td>0.005904</td>\n",
       "    </tr>\n",
       "    <tr>\n",
       "      <th>O-Phosphorylethanolamine</th>\n",
       "      <td>0.010997</td>\n",
       "      <td>0.016348</td>\n",
       "      <td>0.005351</td>\n",
       "    </tr>\n",
       "    <tr>\n",
       "      <th>histidine</th>\n",
       "      <td>0.019337</td>\n",
       "      <td>0.024384</td>\n",
       "      <td>0.005047</td>\n",
       "    </tr>\n",
       "  </tbody>\n",
       "</table>\n",
       "</div>"
      ],
      "text/plain": [
       "Subtype                       SHHa      SHHb      diff\n",
       "taurine                   0.017890  0.029626  0.011736\n",
       "GMP                       0.009467  0.020582  0.011115\n",
       "Lipid8                    0.018271  0.027998  0.009727\n",
       "C16:1                     0.005471  0.014998  0.009527\n",
       "Phosphoserine             0.013430  0.021786  0.008356\n",
       "glucose-1-phosphate       0.016427  0.023752  0.007325\n",
       "Cyclic-ADP-ribose         0.005044  0.011422  0.006378\n",
       "pantothenate              0.006340  0.012244  0.005904\n",
       "O-Phosphorylethanolamine  0.010997  0.016348  0.005351\n",
       "histidine                 0.019337  0.024384  0.005047"
      ]
     },
     "execution_count": 475,
     "metadata": {},
     "output_type": "execute_result"
    }
   ],
   "source": [
    "our.sort_values(\"diff\", ascending=False).head(10)"
   ]
  },
  {
   "cell_type": "code",
   "execution_count": 476,
   "metadata": {},
   "outputs": [
    {
     "data": {
      "text/html": [
       "<div>\n",
       "<style scoped>\n",
       "    .dataframe tbody tr th:only-of-type {\n",
       "        vertical-align: middle;\n",
       "    }\n",
       "\n",
       "    .dataframe tbody tr th {\n",
       "        vertical-align: top;\n",
       "    }\n",
       "\n",
       "    .dataframe thead th {\n",
       "        text-align: right;\n",
       "    }\n",
       "</style>\n",
       "<table border=\"1\" class=\"dataframe\">\n",
       "  <thead>\n",
       "    <tr style=\"text-align: right;\">\n",
       "      <th>Subtype</th>\n",
       "      <th>SHHa</th>\n",
       "      <th>SHHb</th>\n",
       "      <th>diff</th>\n",
       "    </tr>\n",
       "  </thead>\n",
       "  <tbody>\n",
       "    <tr>\n",
       "      <th>citrate_isocitrate</th>\n",
       "      <td>0.028278</td>\n",
       "      <td>0.014471</td>\n",
       "      <td>-0.013807</td>\n",
       "    </tr>\n",
       "    <tr>\n",
       "      <th>C18:0</th>\n",
       "      <td>0.019296</td>\n",
       "      <td>0.008116</td>\n",
       "      <td>-0.011180</td>\n",
       "    </tr>\n",
       "    <tr>\n",
       "      <th>AMP_dGMP</th>\n",
       "      <td>0.028309</td>\n",
       "      <td>0.017699</td>\n",
       "      <td>-0.010611</td>\n",
       "    </tr>\n",
       "    <tr>\n",
       "      <th>Uric acid</th>\n",
       "      <td>0.022886</td>\n",
       "      <td>0.012928</td>\n",
       "      <td>-0.009958</td>\n",
       "    </tr>\n",
       "    <tr>\n",
       "      <th>uridine</th>\n",
       "      <td>0.019901</td>\n",
       "      <td>0.009991</td>\n",
       "      <td>-0.009909</td>\n",
       "    </tr>\n",
       "    <tr>\n",
       "      <th>Lipid2</th>\n",
       "      <td>0.022916</td>\n",
       "      <td>0.013764</td>\n",
       "      <td>-0.009152</td>\n",
       "    </tr>\n",
       "    <tr>\n",
       "      <th>inosine</th>\n",
       "      <td>0.023269</td>\n",
       "      <td>0.015621</td>\n",
       "      <td>-0.007648</td>\n",
       "    </tr>\n",
       "    <tr>\n",
       "      <th>ribose-phosphate</th>\n",
       "      <td>0.018912</td>\n",
       "      <td>0.011722</td>\n",
       "      <td>-0.007190</td>\n",
       "    </tr>\n",
       "    <tr>\n",
       "      <th>guanine</th>\n",
       "      <td>0.020582</td>\n",
       "      <td>0.013480</td>\n",
       "      <td>-0.007102</td>\n",
       "    </tr>\n",
       "    <tr>\n",
       "      <th>glucosamine-6-phosphate</th>\n",
       "      <td>0.016204</td>\n",
       "      <td>0.011034</td>\n",
       "      <td>-0.005170</td>\n",
       "    </tr>\n",
       "  </tbody>\n",
       "</table>\n",
       "</div>"
      ],
      "text/plain": [
       "Subtype                      SHHa      SHHb      diff\n",
       "citrate_isocitrate       0.028278  0.014471 -0.013807\n",
       "C18:0                    0.019296  0.008116 -0.011180\n",
       "AMP_dGMP                 0.028309  0.017699 -0.010611\n",
       "Uric acid                0.022886  0.012928 -0.009958\n",
       "uridine                  0.019901  0.009991 -0.009909\n",
       "Lipid2                   0.022916  0.013764 -0.009152\n",
       "inosine                  0.023269  0.015621 -0.007648\n",
       "ribose-phosphate         0.018912  0.011722 -0.007190\n",
       "guanine                  0.020582  0.013480 -0.007102\n",
       "glucosamine-6-phosphate  0.016204  0.011034 -0.005170"
      ]
     },
     "execution_count": 476,
     "metadata": {},
     "output_type": "execute_result"
    }
   ],
   "source": [
    "our.sort_values(\"diff\").head(10)"
   ]
  },
  {
   "cell_type": "code",
   "execution_count": null,
   "metadata": {},
   "outputs": [],
   "source": [
    "## compare centrality in consensus networks"
   ]
  },
  {
   "cell_type": "code",
   "execution_count": 477,
   "metadata": {},
   "outputs": [],
   "source": [
    "cg = list(set(ba.keys()).intersection(bb.keys()))"
   ]
  },
  {
   "cell_type": "code",
   "execution_count": 478,
   "metadata": {},
   "outputs": [],
   "source": [
    "l = [bb[cg[i]]-ba[cg[i]] for i in range(len(cg))]\n",
    "ldf = pd.DataFrame(l, index=cg, columns=['diff'])\n",
    "ldf['B'] = [bb[cg[i]] for i in range(len(cg))]\n",
    "ldf['A'] = [ba[cg[i]] for i in range(len(cg))]"
   ]
  },
  {
   "cell_type": "code",
   "execution_count": 479,
   "metadata": {},
   "outputs": [
    {
     "data": {
      "text/html": [
       "<div>\n",
       "<style scoped>\n",
       "    .dataframe tbody tr th:only-of-type {\n",
       "        vertical-align: middle;\n",
       "    }\n",
       "\n",
       "    .dataframe tbody tr th {\n",
       "        vertical-align: top;\n",
       "    }\n",
       "\n",
       "    .dataframe thead th {\n",
       "        text-align: right;\n",
       "    }\n",
       "</style>\n",
       "<table border=\"1\" class=\"dataframe\">\n",
       "  <thead>\n",
       "    <tr style=\"text-align: right;\">\n",
       "      <th></th>\n",
       "      <th>diff</th>\n",
       "      <th>B</th>\n",
       "      <th>A</th>\n",
       "    </tr>\n",
       "  </thead>\n",
       "  <tbody>\n",
       "    <tr>\n",
       "      <th>histidine</th>\n",
       "      <td>0.019913</td>\n",
       "      <td>0.034285</td>\n",
       "      <td>0.014372</td>\n",
       "    </tr>\n",
       "    <tr>\n",
       "      <th>Lipid8</th>\n",
       "      <td>0.019321</td>\n",
       "      <td>0.037139</td>\n",
       "      <td>0.017818</td>\n",
       "    </tr>\n",
       "    <tr>\n",
       "      <th>Phosphoserine</th>\n",
       "      <td>0.015980</td>\n",
       "      <td>0.028114</td>\n",
       "      <td>0.012134</td>\n",
       "    </tr>\n",
       "    <tr>\n",
       "      <th>deoxyuridine</th>\n",
       "      <td>0.014396</td>\n",
       "      <td>0.030866</td>\n",
       "      <td>0.016469</td>\n",
       "    </tr>\n",
       "    <tr>\n",
       "      <th>taurine</th>\n",
       "      <td>0.014176</td>\n",
       "      <td>0.026976</td>\n",
       "      <td>0.012799</td>\n",
       "    </tr>\n",
       "    <tr>\n",
       "      <th>O-Phosphorylethanolamine</th>\n",
       "      <td>0.013205</td>\n",
       "      <td>0.020989</td>\n",
       "      <td>0.007785</td>\n",
       "    </tr>\n",
       "    <tr>\n",
       "      <th>N-Acetyl-L-alanine</th>\n",
       "      <td>0.012371</td>\n",
       "      <td>0.016256</td>\n",
       "      <td>0.003885</td>\n",
       "    </tr>\n",
       "    <tr>\n",
       "      <th>aconitate</th>\n",
       "      <td>0.008550</td>\n",
       "      <td>0.014999</td>\n",
       "      <td>0.006449</td>\n",
       "    </tr>\n",
       "    <tr>\n",
       "      <th>glucose-1-phosphate</th>\n",
       "      <td>0.008309</td>\n",
       "      <td>0.024246</td>\n",
       "      <td>0.015937</td>\n",
       "    </tr>\n",
       "    <tr>\n",
       "      <th>sn-glycerol-3-phosphate</th>\n",
       "      <td>0.008236</td>\n",
       "      <td>0.021360</td>\n",
       "      <td>0.013124</td>\n",
       "    </tr>\n",
       "  </tbody>\n",
       "</table>\n",
       "</div>"
      ],
      "text/plain": [
       "                              diff         B         A\n",
       "histidine                 0.019913  0.034285  0.014372\n",
       "Lipid8                    0.019321  0.037139  0.017818\n",
       "Phosphoserine             0.015980  0.028114  0.012134\n",
       "deoxyuridine              0.014396  0.030866  0.016469\n",
       "taurine                   0.014176  0.026976  0.012799\n",
       "O-Phosphorylethanolamine  0.013205  0.020989  0.007785\n",
       "N-Acetyl-L-alanine        0.012371  0.016256  0.003885\n",
       "aconitate                 0.008550  0.014999  0.006449\n",
       "glucose-1-phosphate       0.008309  0.024246  0.015937\n",
       "sn-glycerol-3-phosphate   0.008236  0.021360  0.013124"
      ]
     },
     "execution_count": 479,
     "metadata": {},
     "output_type": "execute_result"
    }
   ],
   "source": [
    "ldf.sort_values('diff', ascending=False).head(10)"
   ]
  },
  {
   "cell_type": "code",
   "execution_count": 480,
   "metadata": {},
   "outputs": [],
   "source": [
    "com = 'taurine'"
   ]
  },
  {
   "cell_type": "code",
   "execution_count": 481,
   "metadata": {},
   "outputs": [
    {
     "data": {
      "text/plain": [
       "[('taurine', 'AMP_dGMP'),\n",
       " ('taurine', 'GMP'),\n",
       " ('taurine', 'UDP'),\n",
       " ('taurine', 'cystathionine'),\n",
       " ('taurine', 'cyclic-AMP'),\n",
       " ('taurine', 'Cyclic-ADP-ribose'),\n",
       " ('taurine', 'guanine')]"
      ]
     },
     "execution_count": 481,
     "metadata": {},
     "output_type": "execute_result"
    }
   ],
   "source": [
    "## edges only in LSGN (SHHb-like) networks\n",
    "[x for x in bnet.edges - anet.edges if (x[0]==com) or (x[1]==com)]"
   ]
  },
  {
   "cell_type": "code",
   "execution_count": 482,
   "metadata": {},
   "outputs": [
    {
     "data": {
      "text/plain": [
       "[('taurine', 'Nicotinuric acid'),\n",
       " ('taurine', 'ribose-phosphate'),\n",
       " ('taurine', 'Uric acid'),\n",
       " ('taurine', 'histidine')]"
      ]
     },
     "execution_count": 482,
     "metadata": {},
     "output_type": "execute_result"
    }
   ],
   "source": [
    "## edges only in Other (SHHa-like) networks\n",
    "[x for x in anet.edges - bnet.edges if (x[0]==com) or (x[1]==com)]"
   ]
  },
  {
   "cell_type": "code",
   "execution_count": 483,
   "metadata": {},
   "outputs": [
    {
     "data": {
      "text/plain": [
       "[('taurine', 'N-Acetyl-L-alanine'),\n",
       " ('taurine', 'asparagine'),\n",
       " ('taurine', 'aspartate'),\n",
       " ('taurine', 'O-Phosphorylethanolamine'),\n",
       " ('taurine', 'guanine'),\n",
       " ('taurine', 'sn-glycerol-3-phosphate'),\n",
       " ('taurine', 'Phosphoserine'),\n",
       " ('taurine', 'D-gluconate'),\n",
       " ('taurine', 'cystathionine'),\n",
       " ('taurine', 'deoxyuridine'),\n",
       " ('taurine', 'glucosamine-6-phosphate'),\n",
       " ('taurine', 'glucose-1-phosphate'),\n",
       " ('taurine', 'AMP_dGMP'),\n",
       " ('taurine', 'IMP'),\n",
       " ('taurine', 'GMP'),\n",
       " ('taurine', 'UDP'),\n",
       " ('taurine', 'GDP'),\n",
       " ('taurine', 'Cyclic-ADP-ribose'),\n",
       " ('taurine', 'GlucoseCl'),\n",
       " ('taurine', 'cyclic-AMP'),\n",
       " ('taurine', 'citrate_isocitrate')]"
      ]
     },
     "execution_count": 483,
     "metadata": {},
     "output_type": "execute_result"
    }
   ],
   "source": [
    "## Total edges in LSGN (SHHb-like) networks\n",
    "[x for x in bnet.edges if (x[0]==com) or (x[1]==com)]"
   ]
  },
  {
   "cell_type": "code",
   "execution_count": null,
   "metadata": {},
   "outputs": [],
   "source": []
  }
 ],
 "metadata": {
  "kernelspec": {
   "display_name": "Python 3",
   "language": "python",
   "name": "python3"
  },
  "language_info": {
   "codemirror_mode": {
    "name": "ipython",
    "version": 3
   },
   "file_extension": ".py",
   "mimetype": "text/x-python",
   "name": "python",
   "nbconvert_exporter": "python",
   "pygments_lexer": "ipython3",
   "version": "3.7.8"
  }
 },
 "nbformat": 4,
 "nbformat_minor": 5
}
