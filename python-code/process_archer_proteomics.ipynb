{
 "cells": [
  {
   "cell_type": "markdown",
   "metadata": {},
   "source": [
    "## Sheet to process the Archer (2018) proteomics and RNA data\n",
    "Generally used for Figure 4 and SHHa/SHHb split"
   ]
  },
  {
   "cell_type": "code",
   "execution_count": 4,
   "metadata": {},
   "outputs": [],
   "source": [
    "import os\n",
    "import pandas as pd"
   ]
  },
  {
   "cell_type": "markdown",
   "metadata": {},
   "source": [
    "### Load and process proteomics data per Archer 2018"
   ]
  },
  {
   "cell_type": "code",
   "execution_count": 5,
   "metadata": {},
   "outputs": [],
   "source": [
    "base_folder = '../data/'"
   ]
  },
  {
   "cell_type": "code",
   "execution_count": 6,
   "metadata": {
    "code_folding": []
   },
   "outputs": [],
   "source": [
    "## Load proteomics Data\n",
    "bpdf = pd.read_excel(os.path.join(base_folder, \"Archer_data.xlsx\"), sheet_name='Proteomics', skiprows=[0], index_col=0)\n",
    "bpdf = bpdf.drop(['entry_name', 'accession_number'],axis=1).dropna()\n",
    "bpdf = bpdf.groupby(bpdf.index).mean().T\n",
    "## center by sample median and then calculate robust z-score\n",
    "pdf = (bpdf.T - bpdf.median(axis=1)).T\n",
    "pdf = (pdf - pdf.median()) /pdf.mad()"
   ]
  },
  {
   "cell_type": "markdown",
   "metadata": {},
   "source": [
    "### Load and process RNA data per Archer 2018"
   ]
  },
  {
   "cell_type": "code",
   "execution_count": 7,
   "metadata": {},
   "outputs": [],
   "source": [
    "brdf = pd.read_excel(os.path.join(base_folder, \"Archer_data.xlsx\"), sheet_name='RNA-seq', skiprows=[0], index_col=0)\n",
    "brdf = brdf.dropna()\n",
    "brdf = brdf.groupby(brdf.index).mean().T\n",
    "## center by sample median and then calculate robust z-score\n",
    "rdf = (brdf.T - brdf.median(axis=1)).T\n",
    "rdf = (rdf - rdf.median()) / rdf.mad()"
   ]
  },
  {
   "cell_type": "markdown",
   "metadata": {},
   "source": [
    "### Save Data for downstream processing"
   ]
  },
  {
   "cell_type": "code",
   "execution_count": 8,
   "metadata": {},
   "outputs": [],
   "source": [
    "# pdf.to_csv(os.path.join(base_folder, \"archer_prot_norm.csv.gz\"), compression='gzip')\n",
    "# rdf.to_csv(os.path.join(base_folder, \"archer_rna_norm.csv.gz\"), compression='gzip')"
   ]
  },
  {
   "cell_type": "code",
   "execution_count": null,
   "metadata": {},
   "outputs": [],
   "source": []
  }
 ],
 "metadata": {
  "kernelspec": {
   "display_name": "Python 3",
   "language": "python",
   "name": "python3"
  },
  "language_info": {
   "codemirror_mode": {
    "name": "ipython",
    "version": 3
   },
   "file_extension": ".py",
   "mimetype": "text/x-python",
   "name": "python",
   "nbconvert_exporter": "python",
   "pygments_lexer": "ipython3",
   "version": "3.7.8"
  }
 },
 "nbformat": 4,
 "nbformat_minor": 4
}
