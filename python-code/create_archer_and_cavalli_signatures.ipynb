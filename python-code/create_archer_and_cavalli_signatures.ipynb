{
 "cells": [
  {
   "cell_type": "markdown",
   "metadata": {},
   "source": [
    "## Generation of Archer and Cavalli Signatures for GSVA\n",
    "Used to generate data for Fig 2\n",
    "\n",
    "Author: Max Gold"
   ]
  },
  {
   "cell_type": "code",
   "execution_count": 12,
   "metadata": {},
   "outputs": [],
   "source": [
    "import os\n",
    "import pandas as pd\n",
    "from scipy import stats\n",
    "from sklearn.preprocessing import quantile_transform"
   ]
  },
  {
   "cell_type": "code",
   "execution_count": 3,
   "metadata": {},
   "outputs": [],
   "source": [
    "base_folder = '../data/'"
   ]
  },
  {
   "cell_type": "markdown",
   "metadata": {},
   "source": [
    "## Proteomics"
   ]
  },
  {
   "cell_type": "code",
   "execution_count": 4,
   "metadata": {},
   "outputs": [],
   "source": [
    "## Load proteomics\n",
    "pdf = pd.read_csv(os.path.join(base_folder, \"archer_prot_norm.csv.gz\"), index_col=0)"
   ]
  },
  {
   "cell_type": "code",
   "execution_count": 5,
   "metadata": {},
   "outputs": [],
   "source": [
    "## Load metadata\n",
    "mdf = pd.read_excel(os.path.join(base_folder,\"Archer_metadata.xlsx\"), index_col=0)\n",
    "\n",
    "shha = set(mdf[mdf['Proteome']=='SHHa'].index).intersection(pdf.index)\n",
    "shhb = set(mdf[mdf['Proteome']=='SHHb'].index).intersection(pdf.index)"
   ]
  },
  {
   "cell_type": "code",
   "execution_count": 6,
   "metadata": {},
   "outputs": [],
   "source": [
    "## A vs. B t-test for every gene\n",
    "tdl = []\n",
    "for p in pdf.columns:\n",
    "    a = pdf.loc[shha, p]\n",
    "    b = pdf.loc[shhb, p]\n",
    "    t,p = stats.ttest_ind(a,b)\n",
    "    tdl.append([t,p])\n",
    "tdf = pd.DataFrame(tdl, index = pdf.columns, columns = ['t', 'p'])"
   ]
  },
  {
   "cell_type": "code",
   "execution_count": 7,
   "metadata": {},
   "outputs": [],
   "source": [
    "## Get top 200 genes for both and save to CSV\n",
    "adf = tdf.sort_values('t', ascending=False).head(200)\n",
    "bdf = tdf.sort_values('t', ascending=True).head(200)\n",
    "\n",
    "# adf.to_csv('shha_prot_sigs.csv')\n",
    "# bdf.to_csv('shhb_prot_sigs.csv')"
   ]
  },
  {
   "cell_type": "markdown",
   "metadata": {},
   "source": [
    "## Cavalli"
   ]
  },
  {
   "cell_type": "code",
   "execution_count": 8,
   "metadata": {},
   "outputs": [],
   "source": [
    "## Import cav_df\n",
    "cav_df = pd.read_table(os.path.join(base_folder,'cavalli_expression.txt.gz'), index_col = 0)\n",
    "cav_df.index = cav_df['HGNC_symbol_from_ensemblv77']\n",
    "badcols = ['Description', 'EnsemblGeneID_from_ensemblv77', 'HGNC_symbol_from_ensemblv77', 'HGNC_ID_from_ensemblv77']\n",
    "cav_df = cav_df.drop(badcols, axis=1)\n",
    "cav_df = cav_df.groupby(cav_df.index).mean()\n",
    "cav_df = cav_df.T"
   ]
  },
  {
   "cell_type": "code",
   "execution_count": 9,
   "metadata": {},
   "outputs": [
    {
     "name": "stderr",
     "output_type": "stream",
     "text": [
      "/Users/maxgold/opt/anaconda3/envs/clean_v2/lib/python3.7/site-packages/openpyxl/worksheet/_reader.py:300: UserWarning: Unknown extension is not supported and will be removed\n",
      "  warn(msg)\n"
     ]
    }
   ],
   "source": [
    "cav_ann = pd.read_excel(os.path.join(base_folder,\"cavalli_subtypes.xlsx\"), index_col=0, skiprows=[0])"
   ]
  },
  {
   "cell_type": "code",
   "execution_count": 10,
   "metadata": {},
   "outputs": [],
   "source": [
    "cav_shh = list(cav_ann[cav_ann['Subgroup']=='SHH'].index)\n",
    "cav_gamma = list(cav_ann[cav_ann['Subtype']=='SHH_gamma'].index)\n",
    "cav_beta = list(cav_ann[cav_ann['Subtype']=='SHH_beta'].index)\n",
    "cav_delta = list(cav_ann[cav_ann['Subtype']=='SHH_delta'].index)\n",
    "cav_alpha = list(cav_ann[cav_ann['Subtype']=='SHH_alpha'].index)"
   ]
  },
  {
   "cell_type": "code",
   "execution_count": 13,
   "metadata": {},
   "outputs": [
    {
     "name": "stderr",
     "output_type": "stream",
     "text": [
      "/Users/maxgold/opt/anaconda3/envs/clean_v2/lib/python3.7/site-packages/sklearn/preprocessing/data.py:2553: FutureWarning: The default value of `copy` will change from False to True in 0.23 in order to make it more consistent with the default `copy` values of other functions in :mod:`sklearn.preprocessing.data` and prevent unexpected side effects by modifying the value of `X` inplace. To avoid inplace modifications of `X`, it is recommended to explicitly set `copy=True`\n",
      "  FutureWarning)\n"
     ]
    }
   ],
   "source": [
    "## quantile normalize\n",
    "def get_qt(xdf):\n",
    "    return pd.DataFrame(quantile_transform(xdf, n_quantiles=xdf.shape[1], random_state=0, axis=1, output_distribution='uniform'), index=xdf.index, columns=xdf.columns)\n",
    "\n",
    "qcav = get_qt(cav_df.loc[cav_shh])"
   ]
  },
  {
   "cell_type": "code",
   "execution_count": 14,
   "metadata": {},
   "outputs": [],
   "source": [
    "xd = {'Gamma': cav_gamma, 'Beta': cav_beta, 'Delta': cav_delta, 'Alpha': cav_alpha}"
   ]
  },
  {
   "cell_type": "code",
   "execution_count": 15,
   "metadata": {},
   "outputs": [],
   "source": [
    "## calculate t-values for each group vs. other SHH\n",
    "btd = {}\n",
    "genes = list(qcav.columns)\n",
    "for k,v in xd.items():\n",
    "    ll = []\n",
    "    tt = qcav.loc[v].values\n",
    "    ta = qcav.drop(v).values\n",
    "    for index,g in enumerate(genes):\n",
    "        val = tt[:,index]\n",
    "        oval = ta[:,index]\n",
    "        t,p = stats.ttest_ind(val, oval)\n",
    "        ll.append([g,t,p])\n",
    "    ltdf = pd.DataFrame(ll, columns = ['gene', 't', 'p'])\n",
    "    btd[k] = ltdf.copy()\n",
    "        "
   ]
  },
  {
   "cell_type": "code",
   "execution_count": 16,
   "metadata": {},
   "outputs": [
    {
     "name": "stdout",
     "output_type": "stream",
     "text": [
      "Gamma, Beta, Delta, Alpha, "
     ]
    }
   ],
   "source": [
    "## Output top 200 genes as possible signature\n",
    "for k,v in btd.items():\n",
    "#     file = open(k + '_cavalli_sigs_200.csv', 'w')\n",
    "#     for index, row in v.sort_values('t', ascending=False).head(200).iterrows():\n",
    "#         file.write(row['gene'] + '\\n')\n",
    "#     file.close()\n",
    "    print(k, end= ', ')"
   ]
  },
  {
   "cell_type": "code",
   "execution_count": null,
   "metadata": {},
   "outputs": [],
   "source": []
  }
 ],
 "metadata": {
  "kernelspec": {
   "display_name": "Python 3",
   "language": "python",
   "name": "python3"
  },
  "language_info": {
   "codemirror_mode": {
    "name": "ipython",
    "version": 3
   },
   "file_extension": ".py",
   "mimetype": "text/x-python",
   "name": "python",
   "nbconvert_exporter": "python",
   "pygments_lexer": "ipython3",
   "version": "3.7.8"
  }
 },
 "nbformat": 4,
 "nbformat_minor": 4
}
