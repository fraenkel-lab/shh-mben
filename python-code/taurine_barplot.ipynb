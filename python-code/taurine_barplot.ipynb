{
 "cells": [
  {
   "cell_type": "markdown",
   "metadata": {},
   "source": [
    "## Taurine Barplots for Figure 6\n",
    "Used for Figure 6\n",
    "\n",
    "Author: Max Gold"
   ]
  },
  {
   "cell_type": "code",
   "execution_count": 2,
   "metadata": {},
   "outputs": [],
   "source": [
    "import matplotlib\n",
    "import matplotlib.pyplot as plt\n",
    "import pandas as pd\n",
    "import seaborn as sns"
   ]
  },
  {
   "cell_type": "code",
   "execution_count": 3,
   "metadata": {},
   "outputs": [],
   "source": [
    "# Say, \"the default sans-serif font is COMIC SANS\"\n",
    "matplotlib.rcParams['font.sans-serif'] = \"Helvetica\"\n",
    "# Then, \"ALWAYS use sans-serif fonts\"\n",
    "matplotlib.rcParams['font.family'] = \"sans-serif\""
   ]
  },
  {
   "cell_type": "code",
   "execution_count": 4,
   "metadata": {
    "code_folding": []
   },
   "outputs": [],
   "source": [
    "data_dict = {\n",
    " 'MAP2+/VSNL1+': [0.243, 0.051, 0.078, 0.084],\n",
    " 'MAP2+/VSNL1-': [0.203, 0.045, 0.063, 0.065],\n",
    " 'MAP2-/VSNL1-': [0.156, 0.032, 0.04, 0.042]\n",
    "}\n",
    "\n",
    "df = pd.DataFrame(data_dict, index = ['CHLA-5', 'CHLA-9', 'CHLA-14', 'CHLA-13'])\n",
    "df = df.loc[['CHLA-5', 'CHLA-9',  'CHLA-13', 'CHLA-14']]\n",
    "\n",
    "sterr_dict = {\n",
    "'MAP2+/VSNL1+':   [3.64953314797319e-05,3.377510674930856e-06, 1.5475282655666325e-05, 1.05649152948004e-05],\n",
    " 'MAP2+/VSNL1-':   [1.862275942300846e-05, 2.4422383522154944e-06, 5.345458535943778e-06, 5.066090644205315e-06],\n",
    " 'MAP2-/VSNL1-':   [1.9320987778910625e-05, 2.9030323687792073e-06, 3.857502902611183e-06, 4.906216539243533e-06]\n",
    "}\n",
    "sedf = pd.DataFrame(sterr_dict, index = ['CHLA-5', 'CHLA-9', 'CHLA-14', 'CHLA-13'])\n",
    "sedf = sedf.loc[['CHLA-5', 'CHLA-9',  'CHLA-13', 'CHLA-14']]"
   ]
  },
  {
   "cell_type": "code",
   "execution_count": 5,
   "metadata": {},
   "outputs": [],
   "source": [
    "udf = df.unstack().reset_index()\n",
    "udf.columns = ['Region', 'Sample', 'Mean Taurine Intensity']\n",
    "\n",
    "sudf = sedf.unstack().reset_index()\n",
    "sudf.columns = ['Region', 'Sample', 'Taurine Standard Error']\n",
    "\n",
    "udf = udf.join(sudf[['Taurine Standard Error']])"
   ]
  },
  {
   "cell_type": "code",
   "execution_count": 6,
   "metadata": {},
   "outputs": [],
   "source": [
    "color_dict = {'MAP2+/VSNL1+': 'tab:purple', 'MAP2+/VSNL1-': 'tab:green', 'MAP2-/VSNL1-': 'tab:red'}"
   ]
  },
  {
   "cell_type": "code",
   "execution_count": 9,
   "metadata": {
    "code_folding": []
   },
   "outputs": [
    {
     "data": {
      "text/plain": [
       "[None, None, None, None, None, None]"
      ]
     },
     "execution_count": 9,
     "metadata": {},
     "output_type": "execute_result"
    },
    {
     "data": {
      "image/png": "[encoded data removed]",
      "text/plain": [
       "<Figure size 360x360 with 1 Axes>"
      ]
     },
     "metadata": {
      "needs_background": "light"
     },
     "output_type": "display_data"
    }
   ],
   "source": [
    "ax = df.plot(kind='bar', yerr=sedf, rot=0, color = color_dict,\n",
    "        error_kw=dict(ecolor=\"black\", elinewidth=10, marker='o', barsabove=True, lolims=True, uplims=True,capsize=1),\n",
    "       figsize=(5,5))\n",
    "ax.set_ylabel(\"Taurine Intensity\", fontsize=14)\n",
    "ax.set_xlabel(\"Sample\", fontsize=14)\n",
    "ax.set_xticklabels(ax.get_xticklabels(), fontsize=12)\n",
    "ax.set_title(\"Taurine Intensity by Sample and Region\", fontsize=16)\n",
    "plt.setp(ax.legend_.get_title(), fontsize=14)\n",
    "plt.setp(ax.legend_.get_texts(), fontsize=12)\n",
    "# ax.set_yticklabels(ax.get_yticklabels(), fontsize=12)\n",
    "# fig.tight_layout()\n",
    "# plt.savefig(\"taurine_intensity.pdf\", dpi=300)"
   ]
  },
  {
   "cell_type": "code",
   "execution_count": null,
   "metadata": {},
   "outputs": [],
   "source": []
  }
 ],
 "metadata": {
  "kernelspec": {
   "display_name": "Python 3",
   "language": "python",
   "name": "python3"
  },
  "language_info": {
   "codemirror_mode": {
    "name": "ipython",
    "version": 3
   },
   "file_extension": ".py",
   "mimetype": "text/x-python",
   "name": "python",
   "nbconvert_exporter": "python",
   "pygments_lexer": "ipython3",
   "version": "3.7.8"
  }
 },
 "nbformat": 4,
 "nbformat_minor": 4
}
