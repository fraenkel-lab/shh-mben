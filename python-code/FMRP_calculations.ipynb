{
 "cells": [
  {
   "cell_type": "markdown",
   "metadata": {},
   "source": [
    "## FMRP and Translational Regulation Analysis\n",
    "Used for Figure 4\n",
    "\n",
    "Author: Max Gold"
   ]
  },
  {
   "cell_type": "code",
   "execution_count": 8,
   "metadata": {},
   "outputs": [],
   "source": [
    "## Import packages\n",
    "import matplotlib\n",
    "import matplotlib.pyplot as plt\n",
    "import numpy as np\n",
    "import os\n",
    "import pandas as pd\n",
    "from scipy import stats\n",
    "import seaborn as sns\n",
    "from sklearn.preprocessing import quantile_transform"
   ]
  },
  {
   "cell_type": "code",
   "execution_count": 9,
   "metadata": {},
   "outputs": [],
   "source": [
    "# Say, \"the default sans-serif font is COMIC SANS\"\n",
    "matplotlib.rcParams['font.sans-serif'] = \"Helvetica\"\n",
    "# Then, \"ALWAYS use sans-serif fonts\"\n",
    "matplotlib.rcParams['font.family'] = \"sans-serif\""
   ]
  },
  {
   "cell_type": "markdown",
   "metadata": {},
   "source": [
    "### Load data"
   ]
  },
  {
   "cell_type": "code",
   "execution_count": 10,
   "metadata": {},
   "outputs": [],
   "source": [
    "base_folder = '../data/'"
   ]
  },
  {
   "cell_type": "code",
   "execution_count": 11,
   "metadata": {},
   "outputs": [],
   "source": [
    "pdf = pd.read_csv(os.path.join(base_folder, \"archer_prot_norm.csv.gz\"), compression='gzip', index_col=0)\n",
    "rdf= pd.read_csv(os.path.join(base_folder, \"archer_rna_norm.csv.gz\"), compression='gzip', index_col=0)\n",
    "\n",
    "## Load metadata\n",
    "mdf = pd.read_excel(os.path.join(base_folder, \"Archer_metadata.xlsx\"), index_col=0)\n",
    "\n",
    "shha_samp = mdf[mdf['Proteome']=='SHHa'].index.tolist()\n",
    "shhb_samp = mdf[mdf['Proteome']=='SHHb'].index.tolist()"
   ]
  },
  {
   "cell_type": "markdown",
   "metadata": {},
   "source": [
    "### Generate Plots for Fig 2B for Marker genes"
   ]
  },
  {
   "cell_type": "code",
   "execution_count": 13,
   "metadata": {},
   "outputs": [],
   "source": [
    "pm = pdf.melt(ignore_index=False)\n",
    "pm['Sample'] = list(pm.index)\n",
    "pm = pm.join(mdf['Proteome'])\n",
    "target_genes = ['NEUROD1', 'SEMA6A', 'DLG4', 'PCLO']\n",
    "\n",
    "pm.index = range(len(pm))\n",
    "pm = pm[pm['Proteome'].str.contains('SHH')]\n",
    "pm = pm[pm['variable'].isin(target_genes)]\n",
    "pm.columns = ['Gene', 'Relative Protein Expression','Sample', 'Subtype']"
   ]
  },
  {
   "cell_type": "code",
   "execution_count": 14,
   "metadata": {
    "scrolled": true
   },
   "outputs": [
    {
     "data": {
      "text/plain": [
       "<matplotlib.legend.Legend at 0x12b5b4cd0>"
      ]
     },
     "execution_count": 14,
     "metadata": {},
     "output_type": "execute_result"
    },
    {
     "data": {
      "image/png": "[encoded data removed]",
      "text/plain": [
       "<Figure size 432x324 with 1 Axes>"
      ]
     },
     "metadata": {
      "needs_background": "light"
     },
     "output_type": "display_data"
    }
   ],
   "source": [
    "## make plot\n",
    "fig,ax = plt.subplots(figsize=(6,4.5))\n",
    "sns.boxplot(data=pm, x='Gene', y='Relative Protein Expression', hue='Subtype',\n",
    "                 showfliers=False, palette=['red', 'purple'], order = target_genes, ax=ax)\n",
    "ax.set_title(\"Neuronal and Synaptic Proteins in SHH MB\", fontsize=16)\n",
    "ax.set_xlabel(\"\")\n",
    "ax.set_ylim(-4.5, 5.5)\n",
    "ax.set_ylabel('Relative Protein Expression',fontsize=14)\n",
    "ax.set_xticklabels(ax.get_xticklabels(), fontsize=13)\n",
    "ax.legend(fontsize=14)\n",
    "\n",
    "# plt.savefig(\"pdf_arial_figures/fig4a-protmark.pdf\", dpi=300, bbox_inches='tight')"
   ]
  },
  {
   "cell_type": "code",
   "execution_count": 5,
   "metadata": {},
   "outputs": [
    {
     "name": "stdout",
     "output_type": "stream",
     "text": [
      "NEUROD1 -1.1167456618695903 0.28431875529327094\n",
      "SEMA6A -1.4629416033555434 0.167237598825962\n",
      "DLG4 -8.153897097783979 1.8139952217777442e-06\n",
      "PCLO -6.87920995157286 1.1197906039326892e-05\n"
     ]
    }
   ],
   "source": [
    "### statistical tests comparing A and B for these genes\n",
    "for gene in target_genes:\n",
    "    a = pm[(pm['Subtype']=='SHHa') & (pm['Gene']==gene)]['Relative Protein Expression']\n",
    "    b = pm[(pm['Subtype']=='SHHb')& (pm['Gene']==gene)]['Relative Protein Expression']\n",
    "    t,p = stats.ttest_ind(a,b)\n",
    "    print(gene, t, p)"
   ]
  },
  {
   "cell_type": "code",
   "execution_count": 7,
   "metadata": {},
   "outputs": [],
   "source": [
    "## neurod1 and sema6a are not significant while DLG4 and PCLO are"
   ]
  },
  {
   "cell_type": "markdown",
   "metadata": {},
   "source": [
    "### FMRP analysis"
   ]
  },
  {
   "cell_type": "code",
   "execution_count": 15,
   "metadata": {},
   "outputs": [],
   "source": [
    "## Load annotation datasets\n",
    "fmrp_df = pd.read_excel(os.path.join(base_folder, \"darnell_2011_fmrp_list.xlsx\"), index_col = 0, header = 0)\n",
    "fmrp_genes = list(fmrp_df['Gene Symbol'])\n",
    "\n",
    "go_syn = [x.rstrip() for x in open(os.path.join(base_folder, \"go_synapse.txt\"))][2:]"
   ]
  },
  {
   "cell_type": "code",
   "execution_count": 16,
   "metadata": {},
   "outputs": [
    {
     "name": "stderr",
     "output_type": "stream",
     "text": [
      "/Users/maxgold/opt/anaconda3/envs/clean_v2/lib/python3.7/site-packages/sklearn/preprocessing/data.py:2553: FutureWarning: The default value of `copy` will change from False to True in 0.23 in order to make it more consistent with the default `copy` values of other functions in :mod:`sklearn.preprocessing.data` and prevent unexpected side effects by modifying the value of `X` inplace. To avoid inplace modifications of `X`, it is recommended to explicitly set `copy=True`\n",
      "  FutureWarning)\n",
      "/Users/maxgold/opt/anaconda3/envs/clean_v2/lib/python3.7/site-packages/sklearn/preprocessing/data.py:2553: FutureWarning: The default value of `copy` will change from False to True in 0.23 in order to make it more consistent with the default `copy` values of other functions in :mod:`sklearn.preprocessing.data` and prevent unexpected side effects by modifying the value of `X` inplace. To avoid inplace modifications of `X`, it is recommended to explicitly set `copy=True`\n",
      "  FutureWarning)\n"
     ]
    }
   ],
   "source": [
    "## rank normalize the data\n",
    "## quantile transform\n",
    "def get_qt(xdf):\n",
    "    return pd.DataFrame(quantile_transform(xdf.copy(), n_quantiles=xdf.shape[1], random_state=0, axis=1, output_distribution='uniform'), index=xdf.index, columns=xdf.columns)\n",
    "\n",
    "genes = sorted(set(pdf.columns).intersection(rdf.columns))\n",
    "\n",
    "qpdf = get_qt(pdf[genes])\n",
    "qrdf = get_qt(rdf[genes])"
   ]
  },
  {
   "cell_type": "code",
   "execution_count": 17,
   "metadata": {},
   "outputs": [],
   "source": [
    "## get everything onto -0.5 to 0.5 scale\n",
    "shh_samp = set(mdf[mdf['Consensus']=='SHH'].index).intersection(qpdf.index).intersection(qrdf.index)\n",
    "# genes = set(qpdf.columns).intersectio\n",
    "sqp = qpdf.loc[shh_samp] - 0.5\n",
    "sqr = qrdf.loc[shh_samp] - 0.5\n",
    "sqd = sqp - sqr"
   ]
  },
  {
   "cell_type": "code",
   "execution_count": 18,
   "metadata": {},
   "outputs": [],
   "source": [
    "## Create gene annotation dictionary\n",
    "## Annotations\n",
    "smdf = mdf.loc[shh_samp]\n",
    "shh_dict = dict([[index, row['Proteome']] for index,row in smdf.iterrows()])\n",
    "\n",
    "gene_dict = dict()\n",
    "for gene in genes:    \n",
    "    if gene in go_syn:\n",
    "        base = 'SYN'\n",
    "    else:\n",
    "        base = 'Non-SYN'\n",
    "    if gene in fmrp_genes:\n",
    "        add = '-FMRP'\n",
    "    else:\n",
    "        add = ''\n",
    "    gene_dict[gene] = base + add"
   ]
  },
  {
   "cell_type": "code",
   "execution_count": 19,
   "metadata": {},
   "outputs": [],
   "source": [
    "## calculate mean values for each gene for each subtype\n",
    "sqpm = sqp.copy().join(mdf[[\"Proteome\"]]).groupby(\"Proteome\").mean()\n",
    "sqrm = sqr.copy().join(mdf[[\"Proteome\"]]).groupby(\"Proteome\").mean()\n",
    "sqdm = sqd.copy().join(mdf[[\"Proteome\"]]).groupby(\"Proteome\").mean()"
   ]
  },
  {
   "cell_type": "code",
   "execution_count": 20,
   "metadata": {},
   "outputs": [],
   "source": [
    "def process_samps(s, assay):\n",
    "    msqd = s.melt(ignore_index=False)\n",
    "    msqd['Sample'] = list(msqd.index)\n",
    "    msqd.columns = ['Gene', 'Value', 'Subtype']\n",
    "    msqd['GeneType'] = [gene_dict[x] for x in msqd['Gene']]\n",
    "    msqd['Subgroup'] = [shh_dict[x] for x in msqd['Sample']]\n",
    "    msqd['Synaptic'] = ['Non-SYN' if 'Non-SYN' in x else 'SYN' for x in msqd['GeneType']]\n",
    "    msqd['FMRP'] = ['FMRP' if 'FMRP' in x else 'non-FMRP' for x in msqd['GeneType']]\n",
    "    msqd['Assay'] = assay\n",
    "    \n",
    "    return msqd, msqd[msqd['Subgroup']=='SHHa'], msqd[msqd['Subgroup']=='SHHb']\n",
    "\n",
    "def process_means(s, assay):\n",
    "    msqd = s.melt(ignore_index=False)\n",
    "    msqd['Subtype'] = list(msqd.index)\n",
    "    msqd.columns = ['Gene', 'Value', 'Subtype']\n",
    "    msqd['GeneType'] = [gene_dict[x] for x in msqd['Gene']]\n",
    "    msqd['Synaptic'] = ['Non-SYN' if 'Non-SYN' in x else 'SYN' for x in msqd['GeneType']]\n",
    "    msqd['FMRP'] = ['FMRP' if 'FMRP' in x else 'non-FMRP' for x in msqd['GeneType']]\n",
    "    msqd['Assay'] = assay\n",
    "    return msqd, msqd[msqd['Subtype']=='SHHa'], msqd[msqd['Subtype']=='SHHb']"
   ]
  },
  {
   "cell_type": "code",
   "execution_count": 21,
   "metadata": {},
   "outputs": [],
   "source": [
    "## get values for all samples and then just SHHa and SHHb\n",
    "r, ra, rb = process_means(sqrm, 'RNA')\n",
    "p, pa, pb = process_means(sqpm, 'Protein')\n",
    "d, da, db = process_means(sqdm, 'RankDiff')"
   ]
  },
  {
   "cell_type": "markdown",
   "metadata": {},
   "source": [
    "### Prot - RNA differences for synaptic genes in SHHb"
   ]
  },
  {
   "cell_type": "code",
   "execution_count": 22,
   "metadata": {},
   "outputs": [],
   "source": [
    "## SHHb synaptic"
   ]
  },
  {
   "cell_type": "code",
   "execution_count": 23,
   "metadata": {},
   "outputs": [
    {
     "name": "stdout",
     "output_type": "stream",
     "text": [
      "0.07894490146832515\n",
      "-0.008331170900552812\n"
     ]
    }
   ],
   "source": [
    "print(np.mean(db[db['Synaptic']=='SYN']['Value']))\n",
    "\n",
    "print(np.mean(db[db['Synaptic']=='Non-SYN']['Value']))"
   ]
  },
  {
   "cell_type": "code",
   "execution_count": 24,
   "metadata": {},
   "outputs": [],
   "source": [
    "## synaptic "
   ]
  },
  {
   "cell_type": "code",
   "execution_count": 25,
   "metadata": {},
   "outputs": [
    {
     "data": {
      "text/plain": [
       "Ttest_1sampResult(statistic=14.110529788496793, pvalue=1.1410849986593114e-40)"
      ]
     },
     "execution_count": 25,
     "metadata": {},
     "output_type": "execute_result"
    }
   ],
   "source": [
    "stats.ttest_1samp(db[db['Synaptic']=='SYN']['Value'], 0)"
   ]
  },
  {
   "cell_type": "code",
   "execution_count": 26,
   "metadata": {},
   "outputs": [],
   "source": [
    "## SHHb non-synaptic"
   ]
  },
  {
   "cell_type": "code",
   "execution_count": 27,
   "metadata": {},
   "outputs": [
    {
     "data": {
      "text/plain": [
       "Ttest_1sampResult(statistic=-4.195795986311919, pvalue=2.749117405989501e-05)"
      ]
     },
     "execution_count": 27,
     "metadata": {},
     "output_type": "execute_result"
    }
   ],
   "source": [
    "stats.ttest_1samp(db[db['Synaptic']=='Non-SYN']['Value'], 0)"
   ]
  },
  {
   "cell_type": "markdown",
   "metadata": {},
   "source": [
    "### Prot - RNA differences for synaptic genes in SHHa"
   ]
  },
  {
   "cell_type": "code",
   "execution_count": 28,
   "metadata": {},
   "outputs": [
    {
     "name": "stdout",
     "output_type": "stream",
     "text": [
      "Value   -0.07565\n",
      "dtype: float64\n",
      "Value    0.007983\n",
      "dtype: float64\n"
     ]
    },
    {
     "name": "stderr",
     "output_type": "stream",
     "text": [
      "/Users/maxgold/opt/anaconda3/envs/clean_v2/lib/python3.7/site-packages/ipykernel_launcher.py:1: FutureWarning: Dropping of nuisance columns in DataFrame reductions (with 'numeric_only=None') is deprecated; in a future version this will raise TypeError.  Select only valid columns before calling the reduction.\n",
      "  \"\"\"Entry point for launching an IPython kernel.\n",
      "/Users/maxgold/opt/anaconda3/envs/clean_v2/lib/python3.7/site-packages/ipykernel_launcher.py:2: FutureWarning: Dropping of nuisance columns in DataFrame reductions (with 'numeric_only=None') is deprecated; in a future version this will raise TypeError.  Select only valid columns before calling the reduction.\n",
      "  \n"
     ]
    }
   ],
   "source": [
    "print(pa[pa['Synaptic']=='SYN'].mean())\n",
    "print(pa[pa['Synaptic']=='Non-SYN'].mean() )"
   ]
  },
  {
   "cell_type": "code",
   "execution_count": 29,
   "metadata": {},
   "outputs": [],
   "source": [
    "## synaptic "
   ]
  },
  {
   "cell_type": "code",
   "execution_count": 30,
   "metadata": {},
   "outputs": [
    {
     "data": {
      "text/plain": [
       "Ttest_1sampResult(statistic=-6.773507439213837, pvalue=2.3849701687952886e-11)"
      ]
     },
     "execution_count": 30,
     "metadata": {},
     "output_type": "execute_result"
    }
   ],
   "source": [
    "stats.ttest_1samp(da[da['Synaptic']=='SYN']['Value'], 0)"
   ]
  },
  {
   "cell_type": "code",
   "execution_count": 31,
   "metadata": {},
   "outputs": [],
   "source": [
    "## SHHb non-synaptic"
   ]
  },
  {
   "cell_type": "code",
   "execution_count": 32,
   "metadata": {
    "scrolled": true
   },
   "outputs": [
    {
     "data": {
      "text/plain": [
       "Ttest_1sampResult(statistic=2.1152158409683977, pvalue=0.03444299338041773)"
      ]
     },
     "execution_count": 32,
     "metadata": {},
     "output_type": "execute_result"
    }
   ],
   "source": [
    "stats.ttest_1samp(da[da['Synaptic']=='Non-SYN']['Value'], 0)"
   ]
  },
  {
   "cell_type": "markdown",
   "metadata": {},
   "source": [
    "## Plot Synaptic vs. Non-Synaptic"
   ]
  },
  {
   "cell_type": "code",
   "execution_count": 33,
   "metadata": {},
   "outputs": [],
   "source": [
    "big_a = ra.append(pa).append(da)\n",
    "big_b = rb.append(pb).append(db)"
   ]
  },
  {
   "cell_type": "markdown",
   "metadata": {},
   "source": [
    "### SHHb"
   ]
  },
  {
   "cell_type": "code",
   "execution_count": 34,
   "metadata": {},
   "outputs": [
    {
     "data": {
      "text/plain": [
       "Text(0.5, 1.0, 'SHHb Ranks by Data Type and Synapse Status')"
      ]
     },
     "execution_count": 34,
     "metadata": {},
     "output_type": "execute_result"
    },
    {
     "data": {
      "image/png": "[encoded data removed]",
      "text/plain": [
       "<Figure size 432x288 with 1 Axes>"
      ]
     },
     "metadata": {
      "needs_background": "light"
     },
     "output_type": "display_data"
    }
   ],
   "source": [
    "plt.figure()\n",
    "ax = sns.boxplot(data=big_b, x='Assay', y='Value', hue='Synaptic',  showfliers = False, palette=['skyblue', 'lightgreen'])\n",
    "ax.get_legend().remove()\n",
    "ax.set_title(\"SHHb Ranks by Data Type and Synapse Status\")\n",
    "# plt.savefig(\"../fig4s-shhb -syn.png\", dpi=300, bbox_inches='tight')"
   ]
  },
  {
   "cell_type": "markdown",
   "metadata": {},
   "source": [
    "### SHHa"
   ]
  },
  {
   "cell_type": "code",
   "execution_count": 35,
   "metadata": {},
   "outputs": [
    {
     "data": {
      "text/plain": [
       "Text(0.5, 1.0, 'SHHa Ranks by Data Type and Synapse Status')"
      ]
     },
     "execution_count": 35,
     "metadata": {},
     "output_type": "execute_result"
    },
    {
     "data": {
      "image/png": "[encoded data removed]",
      "text/plain": [
       "<Figure size 432x288 with 1 Axes>"
      ]
     },
     "metadata": {
      "needs_background": "light"
     },
     "output_type": "display_data"
    }
   ],
   "source": [
    "plt.figure()\n",
    "ax = sns.boxplot(data=big_a, x='Assay', y='Value', hue='Synaptic',  showfliers = False, palette=['skyblue', 'lightgreen'])\n",
    "ax.get_legend().remove()\n",
    "ax.set_title(\"SHHa Ranks by Data Type and Synapse Status\")\n",
    "# plt.savefig(\"../fig4s-shha-syn.png\", dpi=300, bbox_inches='tight')"
   ]
  },
  {
   "cell_type": "code",
   "execution_count": null,
   "metadata": {},
   "outputs": [],
   "source": []
  },
  {
   "cell_type": "markdown",
   "metadata": {},
   "source": [
    "### Figure 4D"
   ]
  },
  {
   "cell_type": "code",
   "execution_count": 36,
   "metadata": {},
   "outputs": [],
   "source": [
    "ho = ['Non-SYN', 'Non-SYN-FMRP', 'SYN', 'SYN-FMRP']"
   ]
  },
  {
   "cell_type": "code",
   "execution_count": 37,
   "metadata": {},
   "outputs": [],
   "source": [
    "bp = ['lightskyblue','dodgerblue', 'springgreen','green' ]"
   ]
  },
  {
   "cell_type": "code",
   "execution_count": 38,
   "metadata": {
    "scrolled": true
   },
   "outputs": [
    {
     "data": {
      "text/plain": [
       "(-0.6, 0.7)"
      ]
     },
     "execution_count": 38,
     "metadata": {},
     "output_type": "execute_result"
    },
    {
     "data": {
      "image/png": "[encoded data removed]",
      "text/plain": [
       "<Figure size 432x288 with 1 Axes>"
      ]
     },
     "metadata": {
      "needs_background": "light"
     },
     "output_type": "display_data"
    }
   ],
   "source": [
    "plt.figure()\n",
    "ax = sns.boxplot(data=d, x='Subtype', y='Value', hue='GeneType',  showfliers = False, hue_order = ho, palette=bp )\n",
    "ax.get_legend().remove()\n",
    "ax.set_ylabel(\"Prot Rank - RNA Rank\", fontsize=12)\n",
    "ax.set_xlabel(\"Subtype\", fontsize=12)\n",
    "ax.set_xticklabels(ax.get_xticklabels(), fontsize=11)\n",
    "ax.set_title(\"Rank Differences by Subtype and Gene Status\", fontsize=14)\n",
    "ax.set_ylim(-0.6, 0.7)\n",
    "# plt.savefig(\"pdf_arial_figures/fig4d-fmrp.pdf\", dpi=300, bbox_inches='tight')"
   ]
  }
 ],
 "metadata": {
  "kernelspec": {
   "display_name": "Python 3",
   "language": "python",
   "name": "python3"
  },
  "language_info": {
   "codemirror_mode": {
    "name": "ipython",
    "version": 3
   },
   "file_extension": ".py",
   "mimetype": "text/x-python",
   "name": "python",
   "nbconvert_exporter": "python",
   "pygments_lexer": "ipython3",
   "version": "3.7.8"
  }
 },
 "nbformat": 4,
 "nbformat_minor": 4
}
